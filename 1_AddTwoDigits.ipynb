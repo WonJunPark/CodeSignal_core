{
  "nbformat": 4,
  "nbformat_minor": 0,
  "metadata": {
    "colab": {
      "name": "1.AddTwoDigits.ipynb",
      "provenance": [],
      "toc_visible": true,
      "authorship_tag": "ABX9TyPahbRDLRUQx6KpceSKAE4K",
      "include_colab_link": true
    },
    "kernelspec": {
      "name": "python3",
      "display_name": "Python 3"
    }
  },
  "cells": [
    {
      "cell_type": "markdown",
      "metadata": {
        "id": "view-in-github",
        "colab_type": "text"
      },
      "source": [
        "<a href=\"https://colab.research.google.com/github/WonJunPark/CodeSignal_core/blob/master/1_AddTwoDigits.ipynb\" target=\"_parent\"><img src=\"https://colab.research.google.com/assets/colab-badge.svg\" alt=\"Open In Colab\"/></a>"
      ]
    },
    {
      "cell_type": "markdown",
      "metadata": {
        "id": "DENf2xaq2kLS",
        "colab_type": "text"
      },
      "source": [
        "You are given a two-digit integer n. Return the sum of its digits."
      ]
    },
    {
      "cell_type": "code",
      "metadata": {
        "id": "k4RwNZik2fXA",
        "colab_type": "code",
        "colab": {
          "base_uri": "https://localhost:8080/",
          "height": 36
        },
        "outputId": "ed13219b-48fa-4dbd-985e-13a74fec78b3"
      },
      "source": [
        "n = 29\n",
        "\n",
        "s = str(n)\n",
        "total = int(s[0]) + int(s[1])\n",
        "\n",
        "print(total)"
      ],
      "execution_count": 3,
      "outputs": [
        {
          "output_type": "stream",
          "text": [
            "11\n"
          ],
          "name": "stdout"
        }
      ]
    }
  ]
}